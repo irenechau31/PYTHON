{
  "nbformat": 4,
  "nbformat_minor": 0,
  "metadata": {
    "colab": {
      "provenance": [],
      "authorship_tag": "ABX9TyOhCd5WjoJmMxCN6ob2Cp2v",
      "include_colab_link": true
    },
    "kernelspec": {
      "name": "python3",
      "display_name": "Python 3"
    },
    "language_info": {
      "name": "python"
    }
  },
  "cells": [
    {
      "cell_type": "markdown",
      "metadata": {
        "id": "view-in-github",
        "colab_type": "text"
      },
      "source": [
        "<a href=\"https://colab.research.google.com/github/irenechau31/PYTHON/blob/main/Python_IntroData_1file.ipynb\" target=\"_parent\"><img src=\"https://colab.research.google.com/assets/colab-badge.svg\" alt=\"Open In Colab\"/></a>"
      ]
    },
    {
      "cell_type": "code",
      "execution_count": null,
      "metadata": {
        "colab": {
          "base_uri": "https://localhost:8080/"
        },
        "id": "TqNdSCvPK7rO",
        "outputId": "513af7a9-ddf5-4fe6-8421-542306778b0c"
      },
      "outputs": [
        {
          "output_type": "stream",
          "name": "stdout",
          "text": [
            "Hello world!\n"
          ]
        }
      ],
      "source": [
        "print(\"Hello world!\")"
      ]
    },
    {
      "cell_type": "code",
      "source": [
        "import numpy"
      ],
      "metadata": {
        "id": "UHo-RCcrLJ_B"
      },
      "execution_count": null,
      "outputs": []
    },
    {
      "cell_type": "code",
      "source": [
        " numpy.array([1,2,3,4])"
      ],
      "metadata": {
        "colab": {
          "base_uri": "https://localhost:8080/"
        },
        "id": "2HmqZgy-LnlN",
        "outputId": "e3660133-1411-4604-b4d6-2758c9fa242a"
      },
      "execution_count": null,
      "outputs": [
        {
          "output_type": "execute_result",
          "data": {
            "text/plain": [
              "array([1, 2, 3, 4])"
            ]
          },
          "metadata": {},
          "execution_count": 6
        }
      ]
    },
    {
      "cell_type": "code",
      "source": [
        "numpy.sin(3.14)"
      ],
      "metadata": {
        "colab": {
          "base_uri": "https://localhost:8080/"
        },
        "id": "UrCVvVbILrcx",
        "outputId": "24d3fbd5-f8c1-4d6c-f395-24eec83ad00b"
      },
      "execution_count": null,
      "outputs": [
        {
          "output_type": "execute_result",
          "data": {
            "text/plain": [
              "0.0015926529164868282"
            ]
          },
          "metadata": {},
          "execution_count": 7
        }
      ]
    },
    {
      "cell_type": "code",
      "source": [
        "list_c = [5,6,7,8]"
      ],
      "metadata": {
        "id": "pLGb1IvdLwNL"
      },
      "execution_count": null,
      "outputs": []
    },
    {
      "cell_type": "code",
      "source": [
        "print(list_c)"
      ],
      "metadata": {
        "colab": {
          "base_uri": "https://localhost:8080/"
        },
        "id": "m9e-0P1UL13A",
        "outputId": "d7380363-7d49-423d-faf0-616b4e05778f"
      },
      "execution_count": null,
      "outputs": [
        {
          "output_type": "stream",
          "name": "stdout",
          "text": [
            "[5, 6, 7, 8]\n"
          ]
        }
      ]
    },
    {
      "cell_type": "code",
      "source": [
        "#python start from 0\n",
        "#python needs libraries for every functions\n",
        "#using deepcopy() in copy library\n",
        "#objectname_attribute name\n",
        "#"
      ],
      "metadata": {
        "id": "9r3XxC7kL32D"
      },
      "execution_count": null,
      "outputs": []
    },
    {
      "cell_type": "code",
      "source": [
        "list_c[2]=13"
      ],
      "metadata": {
        "id": "pe6VT1m9MEay"
      },
      "execution_count": null,
      "outputs": []
    },
    {
      "cell_type": "code",
      "source": [
        "print(list_c)"
      ],
      "metadata": {
        "colab": {
          "base_uri": "https://localhost:8080/"
        },
        "id": "ZpMJV8NFMM_G",
        "outputId": "f26e2ead-3aa9-4dcc-8935-37b18702a869"
      },
      "execution_count": null,
      "outputs": [
        {
          "output_type": "stream",
          "name": "stdout",
          "text": [
            "[5, 6, 13, 8]\n"
          ]
        }
      ]
    },
    {
      "cell_type": "code",
      "source": [
        "#size of array"
      ],
      "metadata": {
        "id": "nIszrfHmMPBX"
      },
      "execution_count": null,
      "outputs": []
    },
    {
      "cell_type": "code",
      "source": [
        "list_c.append(9)\n",
        "#list.append() takes exactly one argument"
      ],
      "metadata": {
        "id": "jlekFjTFMuj4"
      },
      "execution_count": null,
      "outputs": []
    },
    {
      "cell_type": "markdown",
      "source": [
        "#list.append() takes exactly one argument"
      ],
      "metadata": {
        "id": "kmoQD3-eQEse"
      }
    },
    {
      "cell_type": "code",
      "source": [
        "list_c"
      ],
      "metadata": {
        "colab": {
          "base_uri": "https://localhost:8080/"
        },
        "id": "Lu67lLP5NHJZ",
        "outputId": "01d40888-b165-463d-d61e-6b5ba9cd4111"
      },
      "execution_count": null,
      "outputs": [
        {
          "output_type": "execute_result",
          "data": {
            "text/plain": [
              "[5, 6, 13, 8, 9]"
            ]
          },
          "metadata": {},
          "execution_count": 19
        }
      ]
    },
    {
      "cell_type": "code",
      "source": [
        "import copy"
      ],
      "metadata": {
        "id": "jqZZCejUNIkL"
      },
      "execution_count": null,
      "outputs": []
    },
    {
      "cell_type": "code",
      "source": [
        "my_list=copy.deepcopy(list_c)"
      ],
      "metadata": {
        "id": "VeOFK7DRNVff"
      },
      "execution_count": null,
      "outputs": []
    },
    {
      "cell_type": "code",
      "source": [
        "my_list"
      ],
      "metadata": {
        "colab": {
          "base_uri": "https://localhost:8080/"
        },
        "id": "LexIFOEYNhPN",
        "outputId": "e3dfa064-a649-47de-9f39-285fd3082a31"
      },
      "execution_count": null,
      "outputs": [
        {
          "output_type": "execute_result",
          "data": {
            "text/plain": [
              "[5, 6, 13, 8, 9]"
            ]
          },
          "metadata": {},
          "execution_count": 23
        }
      ]
    },
    {
      "cell_type": "code",
      "source": [
        "#Assignment 1 Python Basis\n",
        "#Create obj variable with 0.32, 0.51, 0.12, 1.23\n",
        "#copy the obj and substiture the second element with 0.99\n",
        "#Concatenate the  obj from 1, 2 and store the result in a new object\n"
      ],
      "metadata": {
        "id": "xztQhkvQNi44"
      },
      "execution_count": null,
      "outputs": []
    },
    {
      "cell_type": "code",
      "source": [
        "X1=[0.32, 0.51, 0.12, 1.23]"
      ],
      "metadata": {
        "id": "FmT8EjmgOSYa"
      },
      "execution_count": null,
      "outputs": []
    },
    {
      "cell_type": "code",
      "source": [
        "import copy"
      ],
      "metadata": {
        "id": "iAYpnRrDOZ2d"
      },
      "execution_count": null,
      "outputs": []
    },
    {
      "cell_type": "code",
      "source": [
        "X2=copy.deepcopy(X1)"
      ],
      "metadata": {
        "id": "_Yd08iwGOdrA"
      },
      "execution_count": null,
      "outputs": []
    },
    {
      "cell_type": "code",
      "source": [
        "X2"
      ],
      "metadata": {
        "colab": {
          "base_uri": "https://localhost:8080/"
        },
        "id": "VdDOCGcuOrl3",
        "outputId": "857c87d3-dd39-4762-89df-fa9a01ceb59a"
      },
      "execution_count": null,
      "outputs": [
        {
          "output_type": "execute_result",
          "data": {
            "text/plain": [
              "[0.32, 0.51, 0.12, 1.23]"
            ]
          },
          "metadata": {},
          "execution_count": 40
        }
      ]
    },
    {
      "cell_type": "code",
      "source": [
        "X2[1]=0.99"
      ],
      "metadata": {
        "id": "aDivv8dDOyYO"
      },
      "execution_count": null,
      "outputs": []
    },
    {
      "cell_type": "code",
      "source": [
        "result=X1+X2"
      ],
      "metadata": {
        "id": "H5t5B5MePAYr"
      },
      "execution_count": null,
      "outputs": []
    },
    {
      "cell_type": "code",
      "source": [
        "result"
      ],
      "metadata": {
        "colab": {
          "base_uri": "https://localhost:8080/"
        },
        "id": "FXfdJjJzPXtT",
        "outputId": "1f8a03ea-d6c3-43f0-e20b-382ebee13695"
      },
      "execution_count": null,
      "outputs": [
        {
          "output_type": "execute_result",
          "data": {
            "text/plain": [
              "[0.32, 0.51, 0.12, 1.23, 0.32, 0.99, 0.99, 1.23]"
            ]
          },
          "metadata": {},
          "execution_count": 44
        }
      ]
    },
    {
      "cell_type": "code",
      "source": [
        "X2"
      ],
      "metadata": {
        "colab": {
          "base_uri": "https://localhost:8080/"
        },
        "id": "nYDGaheTP2iU",
        "outputId": "dde4bfd1-98ba-4d62-d664-40fc2d4d8f29"
      },
      "execution_count": null,
      "outputs": [
        {
          "output_type": "execute_result",
          "data": {
            "text/plain": [
              "[0.32, 0.99, 0.99, 1.23, [2], [2, 3], [1], 1]"
            ]
          },
          "metadata": {},
          "execution_count": 53
        }
      ]
    },
    {
      "cell_type": "code",
      "source": [],
      "metadata": {
        "id": "oUDqBEMWP5Cf"
      },
      "execution_count": null,
      "outputs": []
    }
  ]
}