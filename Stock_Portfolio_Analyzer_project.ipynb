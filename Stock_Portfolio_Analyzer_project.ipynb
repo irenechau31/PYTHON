{
  "nbformat": 4,
  "nbformat_minor": 0,
  "metadata": {
    "colab": {
      "provenance": [],
      "authorship_tag": "ABX9TyOQKuiD4qVP57O0peKjm27S",
      "include_colab_link": true
    },
    "kernelspec": {
      "name": "python3",
      "display_name": "Python 3"
    },
    "language_info": {
      "name": "python"
    }
  },
  "cells": [
    {
      "cell_type": "markdown",
      "metadata": {
        "id": "view-in-github",
        "colab_type": "text"
      },
      "source": [
        "<a href=\"https://colab.research.google.com/github/irenechau31/PYTHON/blob/main/Stock_Portfolio_Analyzer_project.ipynb\" target=\"_parent\"><img src=\"https://colab.research.google.com/assets/colab-badge.svg\" alt=\"Open In Colab\"/></a>"
      ]
    },
    {
      "cell_type": "code",
      "source": [
        "import argparse\n",
        "import yfinance as yf\n",
        "import pandas as pd\n",
        "import matplotlib.pyplot as plt\n",
        "import sys"
      ],
      "metadata": {
        "id": "PrG30kzl68c2"
      },
      "execution_count": 4,
      "outputs": []
    },
    {
      "cell_type": "code",
      "execution_count": 5,
      "metadata": {
        "colab": {
          "base_uri": "https://localhost:8080/",
          "height": 619
        },
        "id": "oS1TlP9B66kH",
        "outputId": "607958cb-61cb-4c33-e22d-d60a1e7ee77b"
      },
      "outputs": [
        {
          "output_type": "stream",
          "name": "stderr",
          "text": [
            "WARNING:matplotlib.legend:No artists with labels found to put in legend.  Note that artists whose label start with an underscore are ignored when legend() is called with no argument.\n"
          ]
        },
        {
          "output_type": "stream",
          "name": "stdout",
          "text": [
            "Total Portfolio Value: $0.00\n"
          ]
        },
        {
          "output_type": "display_data",
          "data": {
            "text/plain": [
              "<Figure size 1000x600 with 1 Axes>"
            ],
            "image/png": "[encoded data removed]"
          },
          "metadata": {}
        }
      ],
      "source": [
        "\n",
        "\n",
        "class StockPortfolioAnalyzer:\n",
        "    def __init__(self):\n",
        "        self.portfolio = pd.DataFrame(columns=['Ticker', 'Shares', 'Purchase Price'])\n",
        "\n",
        "    def add_stock_to_portfolio(self, ticker, shares, purchase_price):\n",
        "        self.portfolio = self.portfolio.append({\n",
        "            'Ticker': ticker,\n",
        "            'Shares': shares,\n",
        "            'Purchase Price': purchase_price\n",
        "        }, ignore_index=True)\n",
        "\n",
        "    def fetch_stock_data(self, ticker):\n",
        "        stock_data = yf.download(ticker, start=\"2020-01-01\", end=\"2023-01-01\")\n",
        "        return stock_data['Adj Close']\n",
        "\n",
        "    def calculate_portfolio_value(self):\n",
        "        total_value = 0\n",
        "        for index, stock in self.portfolio.iterrows():\n",
        "            ticker = stock['Ticker']\n",
        "            shares = stock['Shares']\n",
        "            purchase_price = stock['Purchase Price']\n",
        "\n",
        "            stock_data = self.fetch_stock_data(ticker)\n",
        "            current_price = stock_data.iloc[-1]\n",
        "\n",
        "            stock_value = current_price * shares\n",
        "            total_value += stock_value\n",
        "\n",
        "        return total_value\n",
        "\n",
        "    def plot_portfolio_performance(self):\n",
        "        plt.figure(figsize=(10, 6))\n",
        "        for index, stock in self.portfolio.iterrows():\n",
        "            ticker = stock['Ticker']\n",
        "            stock_data = self.fetch_stock_data(ticker)\n",
        "            plt.plot(stock_data.index, stock_data, label=ticker)\n",
        "\n",
        "        plt.title('Portfolio Performance')\n",
        "        plt.xlabel('Date')\n",
        "        plt.ylabel('Stock Price')\n",
        "        plt.legend()\n",
        "        plt.show()\n",
        "\n",
        "def main():\n",
        "    parser = argparse.ArgumentParser(description='Stock Portfolio Analyzer')\n",
        "    parser.add_argument('--add', action='store_true', help='Add a stock to the portfolio')\n",
        "    parser.add_argument('--ticker', type=str, help='Stock ticker')\n",
        "    parser.add_argument('--shares', type=int, help='Number of shares')\n",
        "    parser.add_argument('--price', type=float, help='Purchase price')\n",
        "\n",
        "    # Check if running in a Jupyter notebook environment\n",
        "    if 'ipykernel' in sys.modules:\n",
        "        args = parser.parse_args(args=[])\n",
        "    else:\n",
        "        args = parser.parse_args()\n",
        "\n",
        "    portfolio_analyzer = StockPortfolioAnalyzer()\n",
        "\n",
        "    if args.add:\n",
        "        if not args.ticker or not args.shares or not args.price:\n",
        "            print(\"Please provide --ticker, --shares, and --price for adding a stock.\")\n",
        "            return\n",
        "\n",
        "        portfolio_analyzer.add_stock_to_portfolio(args.ticker, args.shares, args.price)\n",
        "        print(f\"{args.ticker} added to the portfolio.\")\n",
        "\n",
        "    # Calculate and display portfolio value\n",
        "    portfolio_value = portfolio_analyzer.calculate_portfolio_value()\n",
        "    print(f\"Total Portfolio Value: ${portfolio_value:.2f}\")\n",
        "\n",
        "    # Plot portfolio performance\n",
        "    portfolio_analyzer.plot_portfolio_performance()\n",
        "\n",
        "if __name__ == '__main__':\n",
        "    main()"
      ]
    },
    {
      "cell_type": "code",
      "source": [],
      "metadata": {
        "id": "Vvcdm80268-n"
      },
      "execution_count": null,
      "outputs": []
    }
  ]
}