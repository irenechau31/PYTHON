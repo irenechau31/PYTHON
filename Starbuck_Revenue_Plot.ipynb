{
  "nbformat": 4,
  "nbformat_minor": 0,
  "metadata": {
    "colab": {
      "provenance": [],
      "authorship_tag": "ABX9TyOtbR24bo+OymoqH6xK71nN",
      "include_colab_link": true
    },
    "kernelspec": {
      "name": "python3",
      "display_name": "Python 3"
    },
    "language_info": {
      "name": "python"
    }
  },
  "cells": [
    {
      "cell_type": "markdown",
      "metadata": {
        "id": "view-in-github",
        "colab_type": "text"
      },
      "source": [
        "<a href=\"https://colab.research.google.com/github/irenechau31/PYTHON/blob/main/Starbuck_Revenue_Plot.ipynb\" target=\"_parent\"><img src=\"https://colab.research.google.com/assets/colab-badge.svg\" alt=\"Open In Colab\"/></a>"
      ]
    },
    {
      "cell_type": "code",
      "execution_count": null,
      "metadata": {
        "id": "Vb_WvFwUUP92"
      },
      "outputs": [],
      "source": [
        "import pandas as pd\n",
        "%matplotlib inline\n",
        "import matplotlib.pyplot as plt\n",
        "from google.colab import files"
      ]
    },
    {
      "cell_type": "code",
      "source": [
        "uploaded = files.upload()"
      ],
      "metadata": {
        "colab": {
          "base_uri": "https://localhost:8080/",
          "height": 125
        },
        "id": "71HbqTFiUSEV",
        "outputId": "c295cae7-eb28-4cc4-f960-b2fa52dc097a"
      },
      "execution_count": null,
      "outputs": [
        {
          "output_type": "display_data",
          "data": {
            "text/plain": [
              "<IPython.core.display.HTML object>"
            ],
            "text/html": [
              "\n",
              "     <input type=\"file\" id=\"files-d9fff6a7-3e0c-471b-b4a6-4b77a97bdacd\" name=\"files[]\" multiple disabled\n",
              "        style=\"border:none\" />\n",
              "     <output id=\"result-d9fff6a7-3e0c-471b-b4a6-4b77a97bdacd\">\n",
              "      Upload widget is only available when the cell has been executed in the\n",
              "      current browser session. Please rerun this cell to enable.\n",
              "      </output>\n",
              "      <script>// Copyright 2017 Google LLC\n",
              "//\n",
              "// Licensed under the Apache License, Version 2.0 (the \"License\");\n",
              "// you may not use this file except in compliance with the License.\n",
              "// You may obtain a copy of the License at\n",
              "//\n",
              "//      http://www.apache.org/licenses/LICENSE-2.0\n",
              "//\n",
              "// Unless required by applicable law or agreed to in writing, software\n",
              "// distributed under the License is distributed on an \"AS IS\" BASIS,\n",
              "// WITHOUT WARRANTIES OR CONDITIONS OF ANY KIND, either express or implied.\n",
              "// See the License for the specific language governing permissions and\n",
              "// limitations under the License.\n",
              "\n",
              "/**\n",
              " * @fileoverview Helpers for google.colab Python module.\n",
              " */\n",
              "(function(scope) {\n",
              "function span(text, styleAttributes = {}) {\n",
              "  const element = document.createElement('span');\n",
              "  element.textContent = text;\n",
              "  for (const key of Object.keys(styleAttributes)) {\n",
              "    element.style[key] = styleAttributes[key];\n",
              "  }\n",
              "  return element;\n",
              "}\n",
              "\n",
              "// Max number of bytes which will be uploaded at a time.\n",
              "const MAX_PAYLOAD_SIZE = 100 * 1024;\n",
              "\n",
              "function _uploadFiles(inputId, outputId) {\n",
              "  const steps = uploadFilesStep(inputId, outputId);\n",
              "  const outputElement = document.getElementById(outputId);\n",
              "  // Cache steps on the outputElement to make it available for the next call\n",
              "  // to uploadFilesContinue from Python.\n",
              "  outputElement.steps = steps;\n",
              "\n",
              "  return _uploadFilesContinue(outputId);\n",
              "}\n",
              "\n",
              "// This is roughly an async generator (not supported in the browser yet),\n",
              "// where there are multiple asynchronous steps and the Python side is going\n",
              "// to poll for completion of each step.\n",
              "// This uses a Promise to block the python side on completion of each step,\n",
              "// then passes the result of the previous step as the input to the next step.\n",
              "function _uploadFilesContinue(outputId) {\n",
              "  const outputElement = document.getElementById(outputId);\n",
              "  const steps = outputElement.steps;\n",
              "\n",
              "  const next = steps.next(outputElement.lastPromiseValue);\n",
              "  return Promise.resolve(next.value.promise).then((value) => {\n",
              "    // Cache the last promise value to make it available to the next\n",
              "    // step of the generator.\n",
              "    outputElement.lastPromiseValue = value;\n",
              "    return next.value.response;\n",
              "  });\n",
              "}\n",
              "\n",
              "/**\n",
              " * Generator function which is called between each async step of the upload\n",
              " * process.\n",
              " * @param {string} inputId Element ID of the input file picker element.\n",
              " * @param {string} outputId Element ID of the output display.\n",
              " * @return {!Iterable<!Object>} Iterable of next steps.\n",
              " */\n",
              "function* uploadFilesStep(inputId, outputId) {\n",
              "  const inputElement = document.getElementById(inputId);\n",
              "  inputElement.disabled = false;\n",
              "\n",
              "  const outputElement = document.getElementById(outputId);\n",
              "  outputElement.innerHTML = '';\n",
              "\n",
              "  const pickedPromise = new Promise((resolve) => {\n",
              "    inputElement.addEventListener('change', (e) => {\n",
              "      resolve(e.target.files);\n",
              "    });\n",
              "  });\n",
              "\n",
              "  const cancel = document.createElement('button');\n",
              "  inputElement.parentElement.appendChild(cancel);\n",
              "  cancel.textContent = 'Cancel upload';\n",
              "  const cancelPromise = new Promise((resolve) => {\n",
              "    cancel.onclick = () => {\n",
              "      resolve(null);\n",
              "    };\n",
              "  });\n",
              "\n",
              "  // Wait for the user to pick the files.\n",
              "  const files = yield {\n",
              "    promise: Promise.race([pickedPromise, cancelPromise]),\n",
              "    response: {\n",
              "      action: 'starting',\n",
              "    }\n",
              "  };\n",
              "\n",
              "  cancel.remove();\n",
              "\n",
              "  // Disable the input element since further picks are not allowed.\n",
              "  inputElement.disabled = true;\n",
              "\n",
              "  if (!files) {\n",
              "    return {\n",
              "      response: {\n",
              "        action: 'complete',\n",
              "      }\n",
              "    };\n",
              "  }\n",
              "\n",
              "  for (const file of files) {\n",
              "    const li = document.createElement('li');\n",
              "    li.append(span(file.name, {fontWeight: 'bold'}));\n",
              "    li.append(span(\n",
              "        `(${file.type || 'n/a'}) - ${file.size} bytes, ` +\n",
              "        `last modified: ${\n",
              "            file.lastModifiedDate ? file.lastModifiedDate.toLocaleDateString() :\n",
              "                                    'n/a'} - `));\n",
              "    const percent = span('0% done');\n",
              "    li.appendChild(percent);\n",
              "\n",
              "    outputElement.appendChild(li);\n",
              "\n",
              "    const fileDataPromise = new Promise((resolve) => {\n",
              "      const reader = new FileReader();\n",
              "      reader.onload = (e) => {\n",
              "        resolve(e.target.result);\n",
              "      };\n",
              "      reader.readAsArrayBuffer(file);\n",
              "    });\n",
              "    // Wait for the data to be ready.\n",
              "    let fileData = yield {\n",
              "      promise: fileDataPromise,\n",
              "      response: {\n",
              "        action: 'continue',\n",
              "      }\n",
              "    };\n",
              "\n",
              "    // Use a chunked sending to avoid message size limits. See b/62115660.\n",
              "    let position = 0;\n",
              "    do {\n",
              "      const length = Math.min(fileData.byteLength - position, MAX_PAYLOAD_SIZE);\n",
              "      const chunk = new Uint8Array(fileData, position, length);\n",
              "      position += length;\n",
              "\n",
              "      const base64 = btoa(String.fromCharCode.apply(null, chunk));\n",
              "      yield {\n",
              "        response: {\n",
              "          action: 'append',\n",
              "          file: file.name,\n",
              "          data: base64,\n",
              "        },\n",
              "      };\n",
              "\n",
              "      let percentDone = fileData.byteLength === 0 ?\n",
              "          100 :\n",
              "          Math.round((position / fileData.byteLength) * 100);\n",
              "      percent.textContent = `${percentDone}% done`;\n",
              "\n",
              "    } while (position < fileData.byteLength);\n",
              "  }\n",
              "\n",
              "  // All done.\n",
              "  yield {\n",
              "    response: {\n",
              "      action: 'complete',\n",
              "    }\n",
              "  };\n",
              "}\n",
              "\n",
              "scope.google = scope.google || {};\n",
              "scope.google.colab = scope.google.colab || {};\n",
              "scope.google.colab._files = {\n",
              "  _uploadFiles,\n",
              "  _uploadFilesContinue,\n",
              "};\n",
              "})(self);\n",
              "</script> "
            ]
          },
          "metadata": {}
        },
        {
          "output_type": "stream",
          "name": "stdout",
          "text": [
            "Saving Starbuck-Global-Revenue.csv to Starbuck-Global-Revenue (1).csv\n"
          ]
        },
        {
          "output_type": "display_data",
          "data": {
            "text/plain": [
              "{'Starbuck-Global-Revenue (1).csv': b'\\xef\\xbb\\xbfFiscal Year End,Revenue\\r\\n1-Oct-23,35.98B\\r\\n2-Oct-22,32.25B\\r\\n3-Oct-21,29.06B\\r\\n27-Sep-20,23.52B\\r\\n29-Sep-19,26.51B\\r\\n30-Sep-18,24.72B\\r\\n1-Oct-17,22.39B\\r\\n2-Oct-16,21.32B\\r\\n27-Sep-15,19.16B\\r\\n28-Sep-14,16.45B\\r\\n29-Sep-13,14.87B\\r\\n30-Sep-12,13.28B\\r\\n2-Oct-11,11.70B\\r\\n3-Oct-10,10.71B\\r\\n27-Sep-09,9.77B\\r\\n28-Sep-08,10.38B\\r\\n30-Sep-07,9.41B\\r\\n1-Oct-06,7.79B\\r\\n2-Oct-05,6.37B\\r\\n3-Oct-04,5.29B\\r\\n28-Sep-03,4.08B\\r\\n29-Sep-02,3.29B\\r\\n'}"
            ]
          },
          "metadata": {}
        }
      ]
    },
    {
      "cell_type": "code",
      "source": [
        "data = pd.read_csv(r'Starbuck-Global-Revenue.csv')\n",
        "print(data)"
      ],
      "metadata": {
        "colab": {
          "base_uri": "https://localhost:8080/"
        },
        "id": "ETX5dAM3f7Hr",
        "outputId": "90eb8120-4aca-4706-dab4-6536cfa55639"
      },
      "execution_count": null,
      "outputs": [
        {
          "output_type": "stream",
          "name": "stdout",
          "text": [
            "   Fiscal Year End Revenue\n",
            "0         1-Oct-23  35.98B\n",
            "1         2-Oct-22  32.25B\n",
            "2         3-Oct-21  29.06B\n",
            "3        27-Sep-20  23.52B\n",
            "4        29-Sep-19  26.51B\n",
            "5        30-Sep-18  24.72B\n",
            "6         1-Oct-17  22.39B\n",
            "7         2-Oct-16  21.32B\n",
            "8        27-Sep-15  19.16B\n",
            "9        28-Sep-14  16.45B\n",
            "10       29-Sep-13  14.87B\n",
            "11       30-Sep-12  13.28B\n",
            "12        2-Oct-11  11.70B\n",
            "13        3-Oct-10  10.71B\n",
            "14       27-Sep-09   9.77B\n",
            "15       28-Sep-08  10.38B\n",
            "16       30-Sep-07   9.41B\n",
            "17        1-Oct-06   7.79B\n",
            "18        2-Oct-05   6.37B\n",
            "19        3-Oct-04   5.29B\n",
            "20       28-Sep-03   4.08B\n",
            "21       29-Sep-02   3.29B\n"
          ]
        }
      ]
    },
    {
      "cell_type": "code",
      "source": [
        "#extract years\n",
        "years=pd.to_datetime(data['Fiscal Year End'])\n",
        "years=years.dt.year #take year only\n",
        "print(years)\n",
        "#extract revenue\n",
        "revenue=data['Revenue'] #tae=ke revenue column only\n",
        "revenue=revenue.str.replace('B','').astype(float) #remove string B by space, convert text to float/int\n",
        "print(revenue)"
      ],
      "metadata": {
        "colab": {
          "base_uri": "https://localhost:8080/"
        },
        "id": "o8ZCoR62Q4qN",
        "outputId": "39d52dd4-c597-4359-d144-09b876c9fca4"
      },
      "execution_count": null,
      "outputs": [
        {
          "output_type": "stream",
          "name": "stdout",
          "text": [
            "0     2023\n",
            "1     2022\n",
            "2     2021\n",
            "3     2020\n",
            "4     2019\n",
            "5     2018\n",
            "6     2017\n",
            "7     2016\n",
            "8     2015\n",
            "9     2014\n",
            "10    2013\n",
            "11    2012\n",
            "12    2011\n",
            "13    2010\n",
            "14    2009\n",
            "15    2008\n",
            "16    2007\n",
            "17    2006\n",
            "18    2005\n",
            "19    2004\n",
            "20    2003\n",
            "21    2002\n",
            "Name: Fiscal Year End, dtype: int64\n",
            "0     35.98\n",
            "1     32.25\n",
            "2     29.06\n",
            "3     23.52\n",
            "4     26.51\n",
            "5     24.72\n",
            "6     22.39\n",
            "7     21.32\n",
            "8     19.16\n",
            "9     16.45\n",
            "10    14.87\n",
            "11    13.28\n",
            "12    11.70\n",
            "13    10.71\n",
            "14     9.77\n",
            "15    10.38\n",
            "16     9.41\n",
            "17     7.79\n",
            "18     6.37\n",
            "19     5.29\n",
            "20     4.08\n",
            "21     3.29\n",
            "Name: Revenue, dtype: float64\n"
          ]
        }
      ]
    },
    {
      "cell_type": "code",
      "source": [
        "# plot the data\n",
        "plt.figure(figsize=(12,8))\n",
        "plt.bar(years, revenue, color='blue')\n",
        "plt.xlabel ('Year', fontsize=10)\n",
        "plt.xticks (years,rotation=45, ha='right', fontsize=8) #align year label to data bar\n",
        "plt.ylabel('Revenue in U.S. billions')\n",
        "plt.title('Starbuck Annual Revenue Over Years')\n",
        "plt.grid(axis='y')\n",
        "# Adding value labels on top of the bars (For Loop)\n",
        "for i, value in enumerate(revenue): #read every data line in revenue column\n",
        "    plt.text(years[i], value + 0.1, f'{value:.1f}', ha='center') #value+0.1 -> display data 0.1 above the bar"
      ],
      "metadata": {
        "colab": {
          "base_uri": "https://localhost:8080/",
          "height": 731
        },
        "id": "h4kLt5SMflFT",
        "outputId": "4ca424ae-da8f-4c35-94bd-248893b554f1"
      },
      "execution_count": null,
      "outputs": [
        {
          "output_type": "display_data",
          "data": {
            "text/plain": [
              "<Figure size 1200x800 with 1 Axes>"
            ],
            "image/png": "[encoded data removed]"
          },
          "metadata": {}
        }
      ]
    },
    {
      "cell_type": "code",
      "source": [],
      "metadata": {
        "id": "0to06-uuhj9Z"
      },
      "execution_count": null,
      "outputs": []
    }
  ]
}